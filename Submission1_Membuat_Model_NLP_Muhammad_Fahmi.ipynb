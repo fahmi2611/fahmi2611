{
  "nbformat": 4,
  "nbformat_minor": 0,
  "metadata": {
    "colab": {
      "name": "Submission1 : Membuat Model NLP_Muhammad Fahmi.ipynb",
      "provenance": [],
      "collapsed_sections": []
    },
    "kernelspec": {
      "name": "python3",
      "display_name": "Python 3"
    },
    "language_info": {
      "name": "python"
    }
  },
  "cells": [
    {
      "cell_type": "markdown",
      "metadata": {
        "id": "43NO7XwFi23C"
      },
      "source": [
        "**MUHAMMAD FAHMI**"
      ]
    },
    {
      "cell_type": "markdown",
      "metadata": {
        "id": "V4zNurnPi9ht"
      },
      "source": [
        "**FRESH GRADUATE ACADEMY**"
      ]
    },
    {
      "cell_type": "markdown",
      "metadata": {
        "id": "dphZLVvbjAeK"
      },
      "source": [
        "**MACHINE LEARNING - IBM**"
      ]
    },
    {
      "cell_type": "markdown",
      "metadata": {
        "id": "Om41nucpjDi3"
      },
      "source": [
        "**NO. REGISTRASI : 0182180131-64**"
      ]
    },
    {
      "cell_type": "markdown",
      "metadata": {
        "id": "DdqWOSjpjLE1"
      },
      "source": [
        "**MEMBUAT MODEL NLP DENGAN TENSORFLOW**"
      ]
    },
    {
      "cell_type": "markdown",
      "metadata": {
        "id": "PM_Dr9D5hV9e"
      },
      "source": [
        "# **Instal dan import**"
      ]
    },
    {
      "cell_type": "code",
      "metadata": {
        "colab": {
          "base_uri": "https://localhost:8080/"
        },
        "id": "72wAtlAGNTl0",
        "outputId": "1276be33-6240-4d6c-d8ef-b815d9ca1a21"
      },
      "source": [
        "!pip install tweepy"
      ],
      "execution_count": 1,
      "outputs": [
        {
          "output_type": "stream",
          "text": [
            "Requirement already satisfied: tweepy in /usr/local/lib/python3.7/dist-packages (3.10.0)\n",
            "Requirement already satisfied: requests-oauthlib>=0.7.0 in /usr/local/lib/python3.7/dist-packages (from tweepy) (1.3.0)\n",
            "Requirement already satisfied: requests[socks]>=2.11.1 in /usr/local/lib/python3.7/dist-packages (from tweepy) (2.23.0)\n",
            "Requirement already satisfied: six>=1.10.0 in /usr/local/lib/python3.7/dist-packages (from tweepy) (1.15.0)\n",
            "Requirement already satisfied: oauthlib>=3.0.0 in /usr/local/lib/python3.7/dist-packages (from requests-oauthlib>=0.7.0->tweepy) (3.1.1)\n",
            "Requirement already satisfied: chardet<4,>=3.0.2 in /usr/local/lib/python3.7/dist-packages (from requests[socks]>=2.11.1->tweepy) (3.0.4)\n",
            "Requirement already satisfied: urllib3!=1.25.0,!=1.25.1,<1.26,>=1.21.1 in /usr/local/lib/python3.7/dist-packages (from requests[socks]>=2.11.1->tweepy) (1.24.3)\n",
            "Requirement already satisfied: certifi>=2017.4.17 in /usr/local/lib/python3.7/dist-packages (from requests[socks]>=2.11.1->tweepy) (2021.5.30)\n",
            "Requirement already satisfied: idna<3,>=2.5 in /usr/local/lib/python3.7/dist-packages (from requests[socks]>=2.11.1->tweepy) (2.10)\n",
            "Requirement already satisfied: PySocks!=1.5.7,>=1.5.6; extra == \"socks\" in /usr/local/lib/python3.7/dist-packages (from requests[socks]>=2.11.1->tweepy) (1.7.1)\n"
          ],
          "name": "stdout"
        }
      ]
    },
    {
      "cell_type": "code",
      "metadata": {
        "id": "virHWVL7Om34"
      },
      "source": [
        "import numpy as np\n",
        "import pandas as pd\n",
        "import matplotlib.pyplot as plt\n",
        "import re\n",
        "\n",
        "from keras.preprocessing.text import Tokenizer\n",
        "from keras.preprocessing.sequence import pad_sequences\n",
        "from keras.models import Sequential\n",
        "from keras.layers import Dense, Embedding, LSTM, SimpleRNN, SpatialDropout1D\n",
        "\n",
        "from sklearn.model_selection import train_test_split\n",
        "from sklearn import metrics\n",
        "\n",
        "import os\n",
        "for dirname, _, filenames in os.walk('Twitter_Data'):\n",
        "    for filename in filenames:\n",
        "        print(os.path.join(dirname, filename))"
      ],
      "execution_count": 2,
      "outputs": []
    },
    {
      "cell_type": "markdown",
      "metadata": {
        "id": "W2BIZWUKhgM7"
      },
      "source": [
        "# **Menyiapkan Data**"
      ]
    },
    {
      "cell_type": "code",
      "metadata": {
        "colab": {
          "base_uri": "https://localhost:8080/",
          "height": 204
        },
        "id": "VAM9kVosPCpX",
        "outputId": "478bba6d-35b7-48ac-99c7-4cf21fb26b77"
      },
      "source": [
        "df = pd.read_csv('Twitter_Data.csv')\n",
        "df['category'] = df['category'].map({-1.0:'Negative', 0.0:'Neutral', 1.0:'Positive'})\n",
        "df.head()"
      ],
      "execution_count": 4,
      "outputs": [
        {
          "output_type": "execute_result",
          "data": {
            "text/html": [
              "<div>\n",
              "<style scoped>\n",
              "    .dataframe tbody tr th:only-of-type {\n",
              "        vertical-align: middle;\n",
              "    }\n",
              "\n",
              "    .dataframe tbody tr th {\n",
              "        vertical-align: top;\n",
              "    }\n",
              "\n",
              "    .dataframe thead th {\n",
              "        text-align: right;\n",
              "    }\n",
              "</style>\n",
              "<table border=\"1\" class=\"dataframe\">\n",
              "  <thead>\n",
              "    <tr style=\"text-align: right;\">\n",
              "      <th></th>\n",
              "      <th>clean_text</th>\n",
              "      <th>category</th>\n",
              "    </tr>\n",
              "  </thead>\n",
              "  <tbody>\n",
              "    <tr>\n",
              "      <th>0</th>\n",
              "      <td>when modi promised “minimum government maximum...</td>\n",
              "      <td>Negative</td>\n",
              "    </tr>\n",
              "    <tr>\n",
              "      <th>1</th>\n",
              "      <td>talk all the nonsense and continue all the dra...</td>\n",
              "      <td>Neutral</td>\n",
              "    </tr>\n",
              "    <tr>\n",
              "      <th>2</th>\n",
              "      <td>what did just say vote for modi  welcome bjp t...</td>\n",
              "      <td>Positive</td>\n",
              "    </tr>\n",
              "    <tr>\n",
              "      <th>3</th>\n",
              "      <td>asking his supporters prefix chowkidar their n...</td>\n",
              "      <td>Positive</td>\n",
              "    </tr>\n",
              "    <tr>\n",
              "      <th>4</th>\n",
              "      <td>answer who among these the most powerful world...</td>\n",
              "      <td>Positive</td>\n",
              "    </tr>\n",
              "  </tbody>\n",
              "</table>\n",
              "</div>"
            ],
            "text/plain": [
              "                                          clean_text  category\n",
              "0  when modi promised “minimum government maximum...  Negative\n",
              "1  talk all the nonsense and continue all the dra...   Neutral\n",
              "2  what did just say vote for modi  welcome bjp t...  Positive\n",
              "3  asking his supporters prefix chowkidar their n...  Positive\n",
              "4  answer who among these the most powerful world...  Positive"
            ]
          },
          "metadata": {
            "tags": []
          },
          "execution_count": 4
        }
      ]
    },
    {
      "cell_type": "code",
      "metadata": {
        "colab": {
          "base_uri": "https://localhost:8080/"
        },
        "id": "2FHE2yBnPQxh",
        "outputId": "4a1a6213-6300-4596-950a-7683dc272986"
      },
      "source": [
        "df.shape"
      ],
      "execution_count": 5,
      "outputs": [
        {
          "output_type": "execute_result",
          "data": {
            "text/plain": [
              "(162980, 2)"
            ]
          },
          "metadata": {
            "tags": []
          },
          "execution_count": 5
        }
      ]
    },
    {
      "cell_type": "markdown",
      "metadata": {
        "id": "5Yl3jBvrh3K3"
      },
      "source": [
        "**Mengombine data dan memberikan label**"
      ]
    },
    {
      "cell_type": "code",
      "metadata": {
        "colab": {
          "base_uri": "https://localhost:8080/",
          "height": 204
        },
        "id": "x0SilXLJQ1qx",
        "outputId": "4bc3013c-fe80-4675-ab3f-e1d503a44ad4"
      },
      "source": [
        "num_of_rows = 5000\n",
        "shuffled = df.reindex(np.random.permutation(df.index))\n",
        "nt = shuffled[shuffled['category'] == 'Neutral'][:num_of_rows]\n",
        "ng = shuffled[shuffled['category'] == 'Negative'][:num_of_rows]\n",
        "ps = shuffled[shuffled['category'] == 'Positive'][:num_of_rows]\n",
        "combine_data = pd.concat([nt, ng, ps], ignore_index=True)\n",
        "combine_data = combine_data.reindex(np.random.permutation(combine_data.index))\n",
        "combine_data['label'] = 0\n",
        "combine_data.head()"
      ],
      "execution_count": 9,
      "outputs": [
        {
          "output_type": "execute_result",
          "data": {
            "text/html": [
              "<div>\n",
              "<style scoped>\n",
              "    .dataframe tbody tr th:only-of-type {\n",
              "        vertical-align: middle;\n",
              "    }\n",
              "\n",
              "    .dataframe tbody tr th {\n",
              "        vertical-align: top;\n",
              "    }\n",
              "\n",
              "    .dataframe thead th {\n",
              "        text-align: right;\n",
              "    }\n",
              "</style>\n",
              "<table border=\"1\" class=\"dataframe\">\n",
              "  <thead>\n",
              "    <tr style=\"text-align: right;\">\n",
              "      <th></th>\n",
              "      <th>clean_text</th>\n",
              "      <th>category</th>\n",
              "      <th>label</th>\n",
              "    </tr>\n",
              "  </thead>\n",
              "  <tbody>\n",
              "    <tr>\n",
              "      <th>8505</th>\n",
              "      <td>modi hai tow mumkin hai very bad news for cong...</td>\n",
              "      <td>Negative</td>\n",
              "      <td>0</td>\n",
              "    </tr>\n",
              "    <tr>\n",
              "      <th>13772</th>\n",
              "      <td>our most respected hnrble prime minister sir d...</td>\n",
              "      <td>Positive</td>\n",
              "      <td>0</td>\n",
              "    </tr>\n",
              "    <tr>\n",
              "      <th>5598</th>\n",
              "      <td>this propaganda magazine its editor sold out m...</td>\n",
              "      <td>Negative</td>\n",
              "      <td>0</td>\n",
              "    </tr>\n",
              "    <tr>\n",
              "      <th>3147</th>\n",
              "      <td>actually waiting for remark from that modi sir...</td>\n",
              "      <td>Neutral</td>\n",
              "      <td>0</td>\n",
              "    </tr>\n",
              "    <tr>\n",
              "      <th>8905</th>\n",
              "      <td>seems there one intellectual raghuram rajan yo...</td>\n",
              "      <td>Negative</td>\n",
              "      <td>0</td>\n",
              "    </tr>\n",
              "  </tbody>\n",
              "</table>\n",
              "</div>"
            ],
            "text/plain": [
              "                                              clean_text  category  label\n",
              "8505   modi hai tow mumkin hai very bad news for cong...  Negative      0\n",
              "13772  our most respected hnrble prime minister sir d...  Positive      0\n",
              "5598   this propaganda magazine its editor sold out m...  Negative      0\n",
              "3147   actually waiting for remark from that modi sir...   Neutral      0\n",
              "8905   seems there one intellectual raghuram rajan yo...  Negative      0"
            ]
          },
          "metadata": {
            "tags": []
          },
          "execution_count": 9
        }
      ]
    },
    {
      "cell_type": "code",
      "metadata": {
        "colab": {
          "base_uri": "https://localhost:8080/"
        },
        "id": "peAq1iEgSQBT",
        "outputId": "5c8841e9-cacc-494a-dcf0-d3cf1b88ecf6"
      },
      "source": [
        "print(len(combine_data[combine_data['category'] == 'Neutral']))\n",
        "print(len(combine_data[combine_data['category'] == 'Negative']))\n",
        "print(len(combine_data[combine_data['category'] == 'Positive']))"
      ],
      "execution_count": 10,
      "outputs": [
        {
          "output_type": "stream",
          "text": [
            "5000\n",
            "5000\n",
            "5000\n"
          ],
          "name": "stdout"
        }
      ]
    },
    {
      "cell_type": "code",
      "metadata": {
        "id": "c7R-f37ESp9b"
      },
      "source": [
        "df = combine_data.copy()"
      ],
      "execution_count": 11,
      "outputs": []
    },
    {
      "cell_type": "code",
      "metadata": {
        "colab": {
          "base_uri": "https://localhost:8080/"
        },
        "id": "V_0GzUHhSvBk",
        "outputId": "018c95e2-5ba2-4548-d674-64aceb0998ee"
      },
      "source": [
        "print(len(df[df['category'] == 'Neutral']))\n",
        "print(len(df[df['category'] == 'Negative']))\n",
        "print(len(df[df['category'] == 'Positive']))"
      ],
      "execution_count": 12,
      "outputs": [
        {
          "output_type": "stream",
          "text": [
            "5000\n",
            "5000\n",
            "5000\n"
          ],
          "name": "stdout"
        }
      ]
    },
    {
      "cell_type": "code",
      "metadata": {
        "id": "edUbpUVAS9YD"
      },
      "source": [
        "df.loc[df['category'] == 'Neutral', 'label'] = 0\n",
        "df.loc[df['category'] == 'Negative', 'label'] = 1\n",
        "df.loc[df['category'] == 'Positive', 'label'] = 2"
      ],
      "execution_count": 14,
      "outputs": []
    },
    {
      "cell_type": "code",
      "metadata": {
        "colab": {
          "base_uri": "https://localhost:8080/",
          "height": 358
        },
        "id": "hKCMoexZTdS0",
        "outputId": "43a172d2-e486-43b9-efe4-cf5b412c07f9"
      },
      "source": [
        "df.head(10)"
      ],
      "execution_count": 15,
      "outputs": [
        {
          "output_type": "execute_result",
          "data": {
            "text/html": [
              "<div>\n",
              "<style scoped>\n",
              "    .dataframe tbody tr th:only-of-type {\n",
              "        vertical-align: middle;\n",
              "    }\n",
              "\n",
              "    .dataframe tbody tr th {\n",
              "        vertical-align: top;\n",
              "    }\n",
              "\n",
              "    .dataframe thead th {\n",
              "        text-align: right;\n",
              "    }\n",
              "</style>\n",
              "<table border=\"1\" class=\"dataframe\">\n",
              "  <thead>\n",
              "    <tr style=\"text-align: right;\">\n",
              "      <th></th>\n",
              "      <th>clean_text</th>\n",
              "      <th>category</th>\n",
              "      <th>label</th>\n",
              "    </tr>\n",
              "  </thead>\n",
              "  <tbody>\n",
              "    <tr>\n",
              "      <th>8505</th>\n",
              "      <td>modi hai tow mumkin hai very bad news for cong...</td>\n",
              "      <td>Negative</td>\n",
              "      <td>1</td>\n",
              "    </tr>\n",
              "    <tr>\n",
              "      <th>13772</th>\n",
              "      <td>our most respected hnrble prime minister sir d...</td>\n",
              "      <td>Positive</td>\n",
              "      <td>2</td>\n",
              "    </tr>\n",
              "    <tr>\n",
              "      <th>5598</th>\n",
              "      <td>this propaganda magazine its editor sold out m...</td>\n",
              "      <td>Negative</td>\n",
              "      <td>1</td>\n",
              "    </tr>\n",
              "    <tr>\n",
              "      <th>3147</th>\n",
              "      <td>actually waiting for remark from that modi sir...</td>\n",
              "      <td>Neutral</td>\n",
              "      <td>0</td>\n",
              "    </tr>\n",
              "    <tr>\n",
              "      <th>8905</th>\n",
              "      <td>seems there one intellectual raghuram rajan yo...</td>\n",
              "      <td>Negative</td>\n",
              "      <td>1</td>\n",
              "    </tr>\n",
              "    <tr>\n",
              "      <th>5282</th>\n",
              "      <td>entire effort this chowkidar keep enriching hi...</td>\n",
              "      <td>Negative</td>\n",
              "      <td>1</td>\n",
              "    </tr>\n",
              "    <tr>\n",
              "      <th>13682</th>\n",
              "      <td>modi will wait your important news</td>\n",
              "      <td>Positive</td>\n",
              "      <td>2</td>\n",
              "    </tr>\n",
              "    <tr>\n",
              "      <th>3503</th>\n",
              "      <td>this what will happen modi future</td>\n",
              "      <td>Neutral</td>\n",
              "      <td>0</td>\n",
              "    </tr>\n",
              "    <tr>\n",
              "      <th>6686</th>\n",
              "      <td>tell your naive anchor watch modis day before ...</td>\n",
              "      <td>Negative</td>\n",
              "      <td>1</td>\n",
              "    </tr>\n",
              "    <tr>\n",
              "      <th>13826</th>\n",
              "      <td>thats not true many are big supporters bjp and...</td>\n",
              "      <td>Positive</td>\n",
              "      <td>2</td>\n",
              "    </tr>\n",
              "  </tbody>\n",
              "</table>\n",
              "</div>"
            ],
            "text/plain": [
              "                                              clean_text  category  label\n",
              "8505   modi hai tow mumkin hai very bad news for cong...  Negative      1\n",
              "13772  our most respected hnrble prime minister sir d...  Positive      2\n",
              "5598   this propaganda magazine its editor sold out m...  Negative      1\n",
              "3147   actually waiting for remark from that modi sir...   Neutral      0\n",
              "8905   seems there one intellectual raghuram rajan yo...  Negative      1\n",
              "5282   entire effort this chowkidar keep enriching hi...  Negative      1\n",
              "13682                 modi will wait your important news  Positive      2\n",
              "3503                   this what will happen modi future   Neutral      0\n",
              "6686   tell your naive anchor watch modis day before ...  Negative      1\n",
              "13826  thats not true many are big supporters bjp and...  Positive      2"
            ]
          },
          "metadata": {
            "tags": []
          },
          "execution_count": 15
        }
      ]
    },
    {
      "cell_type": "code",
      "metadata": {
        "id": "GBbN6PF-TkHF"
      },
      "source": [
        "from tensorflow.keras.utils import to_categorical"
      ],
      "execution_count": 19,
      "outputs": []
    },
    {
      "cell_type": "code",
      "metadata": {
        "colab": {
          "base_uri": "https://localhost:8080/"
        },
        "id": "UxBkU7JpUOZC",
        "outputId": "fe60cc2d-d475-4b6b-8c69-82aa91f4357e"
      },
      "source": [
        "labels = to_categorical(df['label'], num_classes=3)\n",
        "labels.shape"
      ],
      "execution_count": 20,
      "outputs": [
        {
          "output_type": "execute_result",
          "data": {
            "text/plain": [
              "(15000, 3)"
            ]
          },
          "metadata": {
            "tags": []
          },
          "execution_count": 20
        }
      ]
    },
    {
      "cell_type": "code",
      "metadata": {
        "colab": {
          "base_uri": "https://localhost:8080/"
        },
        "id": "LUeb5NUJUQ16",
        "outputId": "5ada798a-f28f-4e8b-a66d-5229f1215944"
      },
      "source": [
        "labels[:10]"
      ],
      "execution_count": 21,
      "outputs": [
        {
          "output_type": "execute_result",
          "data": {
            "text/plain": [
              "array([[0., 1., 0.],\n",
              "       [0., 0., 1.],\n",
              "       [0., 1., 0.],\n",
              "       [1., 0., 0.],\n",
              "       [0., 1., 0.],\n",
              "       [0., 1., 0.],\n",
              "       [0., 0., 1.],\n",
              "       [1., 0., 0.],\n",
              "       [0., 1., 0.],\n",
              "       [0., 0., 1.]], dtype=float32)"
            ]
          },
          "metadata": {
            "tags": []
          },
          "execution_count": 21
        }
      ]
    },
    {
      "cell_type": "markdown",
      "metadata": {
        "id": "lbB69oISiOI9"
      },
      "source": [
        "# Tokenizer"
      ]
    },
    {
      "cell_type": "code",
      "metadata": {
        "id": "3dhupmYUUUYa"
      },
      "source": [
        "max_features = 4000\n",
        "max_len = 150\n",
        "token = Tokenizer(num_words=max_features)\n",
        "token.fit_on_texts(df['clean_text'].values)\n",
        "sequences = token.texts_to_sequences(df['clean_text'].values)\n",
        "X = pad_sequences(sequences, maxlen=max_len)"
      ],
      "execution_count": 22,
      "outputs": []
    },
    {
      "cell_type": "code",
      "metadata": {
        "colab": {
          "base_uri": "https://localhost:8080/"
        },
        "id": "yVoZjJiGVCM0",
        "outputId": "52a5904a-fafe-4a3a-d04f-07c340cf6a42"
      },
      "source": [
        "word_index = token.word_index\n",
        "print('Ditemukan %s token unik.' % len(word_index))"
      ],
      "execution_count": 23,
      "outputs": [
        {
          "output_type": "stream",
          "text": [
            "Ditemukan 27168 token unik.\n"
          ],
          "name": "stdout"
        }
      ]
    },
    {
      "cell_type": "markdown",
      "metadata": {
        "id": "xzH1r-pZiffh"
      },
      "source": [
        "# **Membuat model NLP**"
      ]
    },
    {
      "cell_type": "code",
      "metadata": {
        "id": "_IPAveWmVVS3"
      },
      "source": [
        "y = labels"
      ],
      "execution_count": 24,
      "outputs": []
    },
    {
      "cell_type": "code",
      "metadata": {
        "id": "PpzBuMV0VX63"
      },
      "source": [
        "X_train, X_test, y_train, y_test = train_test_split(X,y, test_size=0.2, random_state=42)"
      ],
      "execution_count": 25,
      "outputs": []
    },
    {
      "cell_type": "code",
      "metadata": {
        "id": "OQmKwahTVq2c"
      },
      "source": [
        "embed_dim = 128\n",
        "lstm_out = 98"
      ],
      "execution_count": 26,
      "outputs": []
    },
    {
      "cell_type": "code",
      "metadata": {
        "id": "GD_IKjNPaegk"
      },
      "source": [
        "import tensorflow as tf\n",
        "model = tf.keras.Sequential([\n",
        "                             tf.keras.layers.Embedding(max_features, embed_dim, input_length = X.shape[1]),\n",
        "                             tf.keras.layers.SpatialDropout1D(0.7),\n",
        "                             tf.keras.layers.LSTM(64, dropout=0.7, recurrent_dropout=0.7),\n",
        "                             tf.keras.layers.Dense(3, activation='softmax')])\n",
        "model.compile(loss='categorical_crossentropy', optimizer='adam', metrics=['accuracy'])"
      ],
      "execution_count": 39,
      "outputs": []
    },
    {
      "cell_type": "code",
      "metadata": {
        "id": "MPpkkvTmbtPh"
      },
      "source": [
        "from keras.callbacks import EarlyStopping"
      ],
      "execution_count": 40,
      "outputs": []
    },
    {
      "cell_type": "code",
      "metadata": {
        "colab": {
          "base_uri": "https://localhost:8080/"
        },
        "id": "d0PMohWgcLvh",
        "outputId": "6c09e787-7a9b-406f-f2f3-9846c98b04cf"
      },
      "source": [
        "batch_size = 50\n",
        "history = model.fit(X_train, y_train, epochs=20, batch_size=batch_size,validation_split=0.2,callbacks=[EarlyStopping(monitor='val_loss',patience=7, min_delta=0.0001)])"
      ],
      "execution_count": 41,
      "outputs": [
        {
          "output_type": "stream",
          "text": [
            "Epoch 1/20\n",
            "192/192 [==============================] - 46s 226ms/step - loss: 1.0233 - accuracy: 0.4704 - val_loss: 0.9762 - val_accuracy: 0.4975\n",
            "Epoch 2/20\n",
            "192/192 [==============================] - 43s 225ms/step - loss: 0.9229 - accuracy: 0.5489 - val_loss: 0.7825 - val_accuracy: 0.6687\n",
            "Epoch 3/20\n",
            "192/192 [==============================] - 43s 223ms/step - loss: 0.7199 - accuracy: 0.6915 - val_loss: 0.6352 - val_accuracy: 0.7408\n",
            "Epoch 4/20\n",
            "192/192 [==============================] - 43s 225ms/step - loss: 0.5817 - accuracy: 0.7711 - val_loss: 0.5501 - val_accuracy: 0.7854\n",
            "Epoch 5/20\n",
            "192/192 [==============================] - 43s 223ms/step - loss: 0.4799 - accuracy: 0.8186 - val_loss: 0.4819 - val_accuracy: 0.8283\n",
            "Epoch 6/20\n",
            "192/192 [==============================] - 43s 223ms/step - loss: 0.3998 - accuracy: 0.8552 - val_loss: 0.4322 - val_accuracy: 0.8567\n",
            "Epoch 7/20\n",
            "192/192 [==============================] - 43s 223ms/step - loss: 0.3675 - accuracy: 0.8677 - val_loss: 0.4158 - val_accuracy: 0.8696\n",
            "Epoch 8/20\n",
            "192/192 [==============================] - 43s 223ms/step - loss: 0.3407 - accuracy: 0.8796 - val_loss: 0.3822 - val_accuracy: 0.8788\n",
            "Epoch 9/20\n",
            "192/192 [==============================] - 43s 224ms/step - loss: 0.2993 - accuracy: 0.8975 - val_loss: 0.3838 - val_accuracy: 0.8813\n",
            "Epoch 10/20\n",
            "192/192 [==============================] - 43s 223ms/step - loss: 0.2823 - accuracy: 0.9041 - val_loss: 0.3673 - val_accuracy: 0.8854\n",
            "Epoch 11/20\n",
            "192/192 [==============================] - 43s 223ms/step - loss: 0.2534 - accuracy: 0.9159 - val_loss: 0.3873 - val_accuracy: 0.8854\n",
            "Epoch 12/20\n",
            "192/192 [==============================] - 43s 224ms/step - loss: 0.2482 - accuracy: 0.9189 - val_loss: 0.3636 - val_accuracy: 0.8850\n",
            "Epoch 13/20\n",
            "192/192 [==============================] - 43s 224ms/step - loss: 0.2303 - accuracy: 0.9231 - val_loss: 0.3705 - val_accuracy: 0.8954\n",
            "Epoch 14/20\n",
            "192/192 [==============================] - 43s 225ms/step - loss: 0.2212 - accuracy: 0.9270 - val_loss: 0.3910 - val_accuracy: 0.8883\n",
            "Epoch 15/20\n",
            "192/192 [==============================] - 43s 225ms/step - loss: 0.2137 - accuracy: 0.9314 - val_loss: 0.3927 - val_accuracy: 0.8875\n",
            "Epoch 16/20\n",
            "192/192 [==============================] - 43s 225ms/step - loss: 0.2093 - accuracy: 0.9318 - val_loss: 0.4103 - val_accuracy: 0.8808\n",
            "Epoch 17/20\n",
            "192/192 [==============================] - 43s 224ms/step - loss: 0.1973 - accuracy: 0.9357 - val_loss: 0.4257 - val_accuracy: 0.8833\n",
            "Epoch 18/20\n",
            "192/192 [==============================] - 43s 226ms/step - loss: 0.1932 - accuracy: 0.9373 - val_loss: 0.4113 - val_accuracy: 0.8875\n",
            "Epoch 19/20\n",
            "192/192 [==============================] - 44s 230ms/step - loss: 0.1838 - accuracy: 0.9400 - val_loss: 0.4219 - val_accuracy: 0.8867\n"
          ],
          "name": "stdout"
        }
      ]
    },
    {
      "cell_type": "code",
      "metadata": {
        "colab": {
          "base_uri": "https://localhost:8080/"
        },
        "id": "CSNbdHeTe0Px",
        "outputId": "fc13678c-2b7d-432b-b15c-6f5eb69e53a0"
      },
      "source": [
        "loss, accuracy = model.evaluate(X_test, y_test)\n",
        "print(\"loss\", loss)\n",
        "print(\"accuracy\", accuracy)"
      ],
      "execution_count": 42,
      "outputs": [
        {
          "output_type": "stream",
          "text": [
            "94/94 [==============================] - 3s 29ms/step - loss: 0.4061 - accuracy: 0.8843\n",
            "loss 0.4061479866504669\n",
            "accuracy 0.8843333125114441\n"
          ],
          "name": "stdout"
        }
      ]
    },
    {
      "cell_type": "markdown",
      "metadata": {
        "id": "84gjub0UikJA"
      },
      "source": [
        "# **Pengetesan Akurasi Model**"
      ]
    },
    {
      "cell_type": "code",
      "metadata": {
        "colab": {
          "base_uri": "https://localhost:8080/"
        },
        "id": "V6HZ_-ylfwVR",
        "outputId": "bf82bc1a-d9e5-425f-f3e5-f281fa0c2601"
      },
      "source": [
        "text = ['they are just sitting and waiting for Modi to come accross them']\n",
        "text = token.texts_to_sequences(text)\n",
        "text = pad_sequences(text, maxlen=max_len)\n",
        "res = model.predict(text)\n",
        "res"
      ],
      "execution_count": 43,
      "outputs": [
        {
          "output_type": "execute_result",
          "data": {
            "text/plain": [
              "array([[0.99684393, 0.00120316, 0.00195294]], dtype=float32)"
            ]
          },
          "metadata": {
            "tags": []
          },
          "execution_count": 43
        }
      ]
    },
    {
      "cell_type": "code",
      "metadata": {
        "colab": {
          "base_uri": "https://localhost:8080/"
        },
        "id": "Ssmc_zQggwZY",
        "outputId": "d0b9ca0d-f5e8-443f-a2f6-bbd8389a268b"
      },
      "source": [
        "if np.argmax(res) == 0:\n",
        "  print(\"Komen Netral\")\n",
        "elif np.argmax(res) == 1:\n",
        "  print(\"Komen Negative\")\n",
        "elif np.argmax(res) == 2:\n",
        "  print(\"Komen Positive\")"
      ],
      "execution_count": 45,
      "outputs": [
        {
          "output_type": "stream",
          "text": [
            "Komen Netral\n"
          ],
          "name": "stdout"
        }
      ]
    },
    {
      "cell_type": "markdown",
      "metadata": {
        "id": "dT4j8yyCirm0"
      },
      "source": [
        "# **Sekian dan Terimakasih**"
      ]
    }
  ]
}